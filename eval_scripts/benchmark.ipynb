{
 "cells": [
  {
   "cell_type": "code",
   "execution_count": null,
   "metadata": {},
   "outputs": [],
   "source": [
    "import pandas as pd\n",
    "import re\n",
    "import os\n",
    "\n",
    "RESULTS_DIR = './../datasets_reduced/revision/results/'\n",
    "\n",
    "RESULTS_CHAABEN = 'dataset_chaaben_baseline_with_completions.csv'\n",
    "RESULTS_RAMC = 'results_with_comparable_info.csv' \n",
    "RESULTS_RANDOM_RAC = 'dataset_random_baseline_with_completions.csv'\n",
    "OUTPUT_FILE = 'benchmark_results.csv' #'results_with_comparable_info.csv'\n",
    "\n",
    "# cd with jupyter into the directory with the results\n",
    "os.chdir(RESULTS_DIR)\n",
    "\n",
    "\n",
    "DATASET_RESULTS_FILES = [RESULTS_RAMC, RESULTS_RANDOM_RAC]"
   ]
  }
 ],
 "metadata": {
  "language_info": {
   "name": "python"
  }
 },
 "nbformat": 4,
 "nbformat_minor": 2
}
