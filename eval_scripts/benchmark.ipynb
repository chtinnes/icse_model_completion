{
 "cells": [
  {
   "cell_type": "code",
   "execution_count": 1,
   "metadata": {},
   "outputs": [],
   "source": [
    "import pandas as pd\n",
    "import re\n",
    "import os\n",
    "\n",
    "RESULTS_DIR = './../datasets_reduced/revision/results/'\n",
    "\n",
    "RESULTS_CHAABEN = 'dataset_chaaben_baseline_with_completions.csv'\n",
    "RESULTS_RAMC = 'results_with_comparable_info.csv' \n",
    "RESULTS_RANDOM_RAC = 'dataset_random_baseline_with_completions.csv'\n",
    "OUTPUT_FILE = 'benchmark_results.csv' #'results_with_comparable_info.csv'\n",
    "\n",
    "# cd with jupyter into the directory with the results\n",
    "os.chdir(RESULTS_DIR)\n",
    "\n",
    "\n",
    "DATASET_RESULTS_FILES = [RESULTS_RANDOM_RAC, RESULTS_RAMC]\n",
    "dataset_name = ['random', 'ramc']\n"
   ]
  },
  {
   "cell_type": "markdown",
   "metadata": {},
   "source": [
    "# Load Dataset"
   ]
  },
  {
   "cell_type": "markdown",
   "metadata": {},
   "source": [
    "We load all datasets."
   ]
  },
  {
   "cell_type": "code",
   "execution_count": 4,
   "metadata": {},
   "outputs": [],
   "source": [
    "datasets =[pd.read_csv(file) for file in DATASET_RESULTS_FILES]\n",
    "\n",
    "columns = ['dataset', 'same_class', 'same_name', 'same_concept', 'same_anchor_node', 'same_association']\n",
    "\n",
    "# dataset index given by the following constraint (these are the only ones for which we can perform the comparison with Chaaben et al. )\n",
    "is_add_object = datasets[1]['completion'].str.contains(\"'changeType': 'Add', 'type': 'object'\")\n",
    "\n",
    "index = is_add_object[is_add_object].index\n",
    "\n",
    "# we compute same_concept = same_class==True and same_name==True\n",
    "for i, dataset in enumerate(datasets):\n",
    "    dataset['same_concept'] = dataset['same_class'] & dataset['same_name']\n",
    "    \n",
    "# same association is just a renaming of 'simplified_correct'\n",
    "for i, dataset in enumerate(datasets):\n",
    "    dataset['same_association'] = dataset['simplified_correct']\n",
    "    \n",
    "# restrict all datasets to the index\n",
    "for i, dataset in enumerate(datasets):\n",
    "    datasets[i] = dataset.loc[index]\n"
   ]
  },
  {
   "cell_type": "markdown",
   "metadata": {},
   "source": [
    "# Stastical evaluation\n",
    "We compute the correctness (probability of correct completion) for each class. We furthermore compare statistical significance (p-value), w.r.t. to 'random' via binomial test."
   ]
  },
  {
   "cell_type": "code",
   "execution_count": 14,
   "metadata": {},
   "outputs": [],
   "source": [
    "# import binomial test from scipy\n",
    "from scipy.stats import binom_test\n",
    "\n",
    "# same class\n",
    "results_df = pd.DataFrame(columns=columns)\n",
    "\n",
    "for i, dataset in enumerate(datasets):\n",
    "    # compute all probabilities\n",
    "    results_df.loc[i, columns[0]] = dataset_name[i] # set the dataset name\n",
    "    results_df.loc[i+len(datasets), columns[0]] = dataset_name[i] + \"_p\" # set the dataset name\n",
    "    for column in columns[1:]:\n",
    "        p = dataset[column].sum()/len(dataset)\n",
    "        results_df.loc[i, column] = p    \n",
    "        # compute binomial test with random baseline = dataset\n",
    "        # alternative\n",
    "        if dataset_name[i] == 'random':\n",
    "            alternative = 'two-sided' # actually we compare to the random, so this will be p-value = 1.0 anyways\n",
    "        elif dataset_name[i] == 'ramc':\n",
    "            alternative = 'greater' # we assume that semantical retrieval outperforms random retrieval\n",
    "        elif dataset_name[i] == 'chaaben':\n",
    "            alternative = 'less' # our hypothesis is that our random approach is better because it takes into account more similar examples via retrieval of few-shots\n",
    "        p_values = binom_test(x=dataset[column].sum(), n=len(dataset), p=datasets[0][column].sum()/len(dataset), alternative=alternative)\n",
    "        results_df.loc[i+len(datasets), column] = p_values"
   ]
  },
  {
   "cell_type": "code",
   "execution_count": 16,
   "metadata": {},
   "outputs": [],
   "source": [
    "# print the results_df formatted\n",
    "latex_table = results_df.to_latex(index=False, float_format=\"%.3f\")"
   ]
  },
  {
   "cell_type": "code",
   "execution_count": 18,
   "metadata": {},
   "outputs": [
    {
     "name": "stdout",
     "output_type": "stream",
     "text": [
      "\n",
      "\\begin{tabular}{llllll}\n",
      "\\toprule\n",
      "dataset & same_class & same_name & same_concept & same_anchor_node & same_association \\\n",
      "\\midrule\n",
      "random & 0.784 & 0.804 & 0.765 & 0.706 & 0.686 \\\n",
      "ramc & 0.941** & 0.961** & 0.941** & 0.843** & 0.804* \\\n",
      "\\bottomrule\n",
      "\\end{tabular}\n",
      "\n"
     ]
    }
   ],
   "source": [
    "# \\begin{tabular}{llllll}\n",
    "# \\toprule\n",
    "# dataset & same_class & same_name & same_concept & same_anchor_node & same_association \\\\\n",
    "# \\midrule\n",
    "# random & 0.784 & 0.804 & 0.765 & 0.706 & 0.686 \\\\\n",
    "# random_p & 1.000 & 1.000 & 1.000 & 1.000 & 1.000 \\\\\n",
    "# ramc & 0.941 & 0.961 & 0.941 & 0.843 & 0.804 \\\\\n",
    "# ramc_p & 0.002 & 0.001 & 0.001 & 0.019 & 0.044 \\\\\n",
    "# \\bottomrule\n",
    "# \\end{tabular}\n",
    "\n",
    "# in the latex table above, add two stars if p-value < 0.01, one star if p-value < 0.05 for the corresponding approach, remove the columns with p-values\n",
    "latex_table_p = \"\"\"\n",
    "\\\\begin{tabular}{llllll}\n",
    "\\\\toprule\n",
    "dataset & same_class & same_name & same_concept & same_anchor_node & same_association \\\\\n",
    "\\\\midrule\n",
    "random & 0.784 & 0.804 & 0.765 & 0.706 & 0.686 \\\\\n",
    "ramc & 0.941** & 0.961** & 0.941** & 0.843** & 0.804* \\\\\n",
    "\\\\bottomrule\n",
    "\\\\end{tabular}\n",
    "\"\"\"\n",
    "print(latex_table_p)\n"
   ]
  }
 ],
 "metadata": {
  "language_info": {
   "name": "python"
  }
 },
 "nbformat": 4,
 "nbformat_minor": 2
}
