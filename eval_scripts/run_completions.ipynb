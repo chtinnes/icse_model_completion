{
 "cells": [
  {
   "cell_type": "code",
   "execution_count": 9,
   "metadata": {},
   "outputs": [
    {
     "ename": "FileNotFoundError",
     "evalue": "[Errno 2] No such file or directory: './../datasets_reduced/revision/results/'",
     "output_type": "error",
     "traceback": [
      "\u001b[0;31m---------------------------------------------------------------------------\u001b[0m",
      "\u001b[0;31mFileNotFoundError\u001b[0m                         Traceback (most recent call last)",
      "Cell \u001b[0;32mIn[9], line 9\u001b[0m\n\u001b[1;32m      6\u001b[0m RESULTS_DIR \u001b[38;5;241m=\u001b[39m \u001b[38;5;124m'\u001b[39m\u001b[38;5;124m./../datasets_reduced/revision/results/\u001b[39m\u001b[38;5;124m'\u001b[39m\n\u001b[1;32m      8\u001b[0m \u001b[38;5;66;03m# cd with jupyter into the directory with the results\u001b[39;00m\n\u001b[0;32m----> 9\u001b[0m \u001b[43mos\u001b[49m\u001b[38;5;241;43m.\u001b[39;49m\u001b[43mchdir\u001b[49m\u001b[43m(\u001b[49m\u001b[43mRESULTS_DIR\u001b[49m\u001b[43m)\u001b[49m\n",
      "\u001b[0;31mFileNotFoundError\u001b[0m: [Errno 2] No such file or directory: './../datasets_reduced/revision/results/'"
     ]
    }
   ],
   "source": [
    "# load the csv with the data\n",
    "import pandas as pd\n",
    "import re\n",
    "import os\n",
    "\n",
    "RESULTS_DIR = './../datasets_reduced/revision/results/'\n",
    "\n",
    "INPUT_FILE = 'dataset_random_baseline.jsonl'\n",
    "OUTPUT_FILE = RESULTS_DIR + 'dataset_random_baseline_with_completions.csv'\n",
    "\n",
    "# cd with jupyter into the directory with the results\n",
    "os.chdir(RESULTS_DIR)\n",
    "\n"
   ]
  },
  {
   "cell_type": "code",
   "execution_count": 12,
   "metadata": {},
   "outputs": [],
   "source": [
    "# data\n",
    "data = pd.read_json('dataset_random_baseline.jsonl', lines=True)\n",
    "\n",
    "# Some config\n",
    "MULTI_EDGE = False\n",
    "model = \"gpt-4\"\n"
   ]
  },
  {
   "cell_type": "code",
   "execution_count": 13,
   "metadata": {},
   "outputs": [
    {
     "name": "stdout",
     "output_type": "stream",
     "text": [
      "There are 51 rows with completion_type = ['Add_node']\n"
     ]
    }
   ],
   "source": [
    "# select data, i.e. fixed_prompt column. select only rows where completion_type = ['Add_node']\n",
    "count = 0\n",
    "for index, row in data.iterrows():\n",
    "    if row['completion_type'] == \"['Add_node']\" and re.match(r\".*'changeType': 'Add', 'type': 'object'.*\",row['completion']):\n",
    "        count += 1\n",
    "\n",
    "print(f\"There are {count} rows with completion_type = ['Add_node']\")"
   ]
  },
  {
   "cell_type": "markdown",
   "metadata": {},
   "source": [
    "Run the completion with gpt-4"
   ]
  },
  {
   "cell_type": "code",
   "execution_count": 15,
   "metadata": {},
   "outputs": [
    {
     "name": "stdout",
     "output_type": "stream",
     "text": [
      "Using azure.\n"
     ]
    }
   ],
   "source": [
    "# cd back to the root (because the GPT_runner.py script expects to be in the root for access to secret api keys etc.)\n",
    "os.chdir(\"./../../../lm2eo-main\")\n",
    "\n",
    "# define the prompts\n",
    "\n",
    "from GPT_runner import sample_edge_gpt_chat, CHAT_MODEL_INSTRUCTION\n",
    "\n",
    "# select data, i.e. fixed_prompt column. select only rows where completion_type = ['Add_node']\n",
    "count = 0\n",
    "for index, row in data.iterrows():\n",
    "    if row['completion_type'] == \"['Add_node']\" and re.match(r\".*'changeType': 'Add', 'type': 'object'.*\",row['completion']):\n",
    "        total_tokens, completion_tokens, completion_string = sample_edge_gpt_chat(model, row['prompt'], CHAT_MODEL_INSTRUCTION, MULTI_EDGE)\n",
    "        count += 1\n",
    "        # set in data file\n",
    "        data.at[index, 'completion_generated'] = completion_string\n",
    "        data.at[index, 'completion_tokens'] = completion_tokens\n",
    "        data.at[index, 'total_tokens'] = total_tokens\n",
    "\n",
    "# save the data\n",
    "data.to_csv(OUTPUT_FILE, index=False)\n",
    "\n"
   ]
  }
 ],
 "metadata": {
  "kernelspec": {
   "display_name": "lm_miner",
   "language": "python",
   "name": "python3"
  },
  "language_info": {
   "codemirror_mode": {
    "name": "ipython",
    "version": 3
   },
   "file_extension": ".py",
   "mimetype": "text/x-python",
   "name": "python",
   "nbconvert_exporter": "python",
   "pygments_lexer": "ipython3",
   "version": "3.10.6"
  }
 },
 "nbformat": 4,
 "nbformat_minor": 2
}
