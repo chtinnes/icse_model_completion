{
 "cells": [
  {
   "cell_type": "code",
   "execution_count": null,
   "metadata": {},
   "outputs": [],
   "source": [
    "# Basic setup\n",
    "import logging\n",
    "logging.basicConfig(level=logging.DEBUG)"
   ]
  },
  {
   "cell_type": "code",
   "execution_count": null,
   "metadata": {},
   "outputs": [],
   "source": [
    "import edgel_utils as edgel"
   ]
  },
  {
   "cell_type": "code",
   "execution_count": null,
   "metadata": {},
   "outputs": [],
   "source": [
    "import pandas as pd\n",
    "FILE_PATH = \"./test_files/completion_test.jsonl\"\n",
    "data = pd.read_json(FILE_PATH, lines=True)\n",
    "\n",
    "from edgel_utils import get_prompt_graphs, parse_edge, V_JSON\n",
    "prompt_graphs = get_prompt_graphs(data.iloc[1]['prompt'])\n",
    "TEST_GRAPH = prompt_graphs[1] # select the last graph in the prompt\n",
    "\n",
    "lines = TEST_GRAPH.split('\\n')\n",
    "first_edge = lines[1] # 0 is header\n",
    "\n",
    "is_edge, src_id, tgt_id, edge_label, src_node_label, tgt_node_label = parse_edge(first_edge, version=V_JSON)\n",
    "\n",
    "TEST_NODE = src_node_label\n",
    "print(TEST_GRAPH)\n",
    "print(TEST_NODE)"
   ]
  },
  {
   "cell_type": "code",
   "execution_count": null,
   "metadata": {},
   "outputs": [],
   "source": [
    "correct, graph = edgel.parse_graph(TEST_GRAPH, directed=True, version=edgel.V_JSON, parse_labels_json=True, reduce_labels=True)\n",
    "assert correct is True"
   ]
  },
  {
   "cell_type": "code",
   "execution_count": null,
   "metadata": {},
   "outputs": [],
   "source": [
    "node_obj = edgel.ChangeGraphNode.from_string(TEST_NODE)"
   ]
  },
  {
   "cell_type": "markdown",
   "metadata": {},
   "source": []
  },
  {
   "cell_type": "code",
   "execution_count": null,
   "metadata": {},
   "outputs": [],
   "source": [
    "reduced_string = edgel.ChangeGraphNode.to_json(TEST_NODE, reduce=True)"
   ]
  },
  {
   "cell_type": "code",
   "execution_count": null,
   "metadata": {},
   "outputs": [],
   "source": [
    "reduced_string"
   ]
  },
  {
   "cell_type": "code",
   "execution_count": null,
   "metadata": {},
   "outputs": [],
   "source": [
    "from mining.plot_utils import plot_graphs\n",
    "\n",
    "plot_graphs([graph], json_labels=True)"
   ]
  },
  {
   "cell_type": "markdown",
   "metadata": {},
   "source": [
    "# Determining anchor nodes of completion\n"
   ]
  },
  {
   "cell_type": "markdown",
   "metadata": {},
   "source": [
    "Load file:"
   ]
  },
  {
   "cell_type": "code",
   "execution_count": null,
   "metadata": {},
   "outputs": [],
   "source": [
    "import pandas as pd\n",
    "FILE_PATH = \"./test_files/completion_test.jsonl\"\n",
    "data = pd.read_json(FILE_PATH, lines=True)\n"
   ]
  },
  {
   "cell_type": "markdown",
   "metadata": {},
   "source": [
    "Read out prompt and completion:"
   ]
  },
  {
   "cell_type": "code",
   "execution_count": null,
   "metadata": {},
   "outputs": [],
   "source": [
    "\n",
    "from edgel_utils import get_prompt_graphs\n",
    "\n",
    "example_id = 0 # id to choose from the examples\n",
    "\n",
    "example = data.iloc[example_id]\n",
    "\n",
    "def get_last_graph(example):\n",
    "    \n",
    "\n",
    "    prompt_graphs = get_prompt_graphs(example['prompt'])\n",
    "    prompt = prompt_graphs[-1] # select the last graph in the prompt\n",
    "\n",
    "    completion =  'e' + example['completion']\n",
    "\n",
    "    full_graph = prompt + \"\\n\" + completion\n",
    "    return prompt, completion, full_graph\n",
    "\n",
    "prompt, completion, full_graph = get_last_graph(example)\n"
   ]
  },
  {
   "cell_type": "markdown",
   "metadata": {},
   "source": [
    "Determine anchor nodes."
   ]
  },
  {
   "cell_type": "code",
   "execution_count": null,
   "metadata": {},
   "outputs": [],
   "source": [
    "from edgel_utils import get_anchor_node_ids\n",
    "anchor_ids = get_anchor_node_ids(prompt, completion)"
   ]
  },
  {
   "cell_type": "code",
   "execution_count": null,
   "metadata": {},
   "outputs": [],
   "source": [
    "\n",
    "correct, graph = edgel.parse_graph(full_graph, directed=True, version=edgel.V_JSON, parse_labels_json=True, reduce_labels=True, serialized_ids=anchor_ids)\n",
    "assert correct is True"
   ]
  },
  {
   "cell_type": "code",
   "execution_count": null,
   "metadata": {},
   "outputs": [],
   "source": [
    "anchor_ids"
   ]
  },
  {
   "cell_type": "code",
   "execution_count": null,
   "metadata": {},
   "outputs": [],
   "source": [
    "from mining.plot_utils import plot_graphs\n",
    "\n",
    "plot_graphs([graph], json_labels=True)"
   ]
  },
  {
   "cell_type": "markdown",
   "metadata": {},
   "source": [
    "Now, we check the functionality to get only the \"anchored\" completion graph:"
   ]
  },
  {
   "cell_type": "code",
   "execution_count": null,
   "metadata": {},
   "outputs": [],
   "source": [
    "from edgel_utils import get_anchored_completion_graph, V_JSON\n",
    "graph = get_anchored_completion_graph(prompt, completion, version=V_JSON)\n",
    "plot_graphs([graph], json_labels=True)"
   ]
  },
  {
   "cell_type": "markdown",
   "metadata": {},
   "source": [
    "Last but not least, we test the isomorphism test for our test samples.\n",
    "Our test includes two examples. The first one is a correct generated completion, the second example is incorrect."
   ]
  },
  {
   "cell_type": "code",
   "execution_count": null,
   "metadata": {},
   "outputs": [],
   "source": [
    "import pandas as pd\n",
    "from mining.isograph import IsoGraph\n",
    "from mining.plot_utils import to_latex\n",
    "\n",
    "FILE_PATH = \"./test_files/completion_result.jsonl\"\n",
    "data = pd.read_json(FILE_PATH, lines=True)\n",
    "\n",
    "for idx, example in data.iterrows():\n",
    "    prompt, completion_gt, full_graph = get_last_graph(example)\n",
    "    generated_completion = 'e' + example['completion_string']\n",
    "    graph_gt = get_anchored_completion_graph(prompt, completion_gt, version=V_JSON)\n",
    "    graph_generated = get_anchored_completion_graph(prompt, generated_completion, version=V_JSON)\n",
    "    graph_gt = IsoGraph(graph_gt)\n",
    "    to_latex(graph_gt, None)\n",
    "    graph_generated = IsoGraph(graph_generated)\n",
    "    isomorphic_completion = graph_gt == graph_generated\n",
    "    print(f\"Isomorphic??: \\t {isomorphic_completion}\")\n",
    "\n"
   ]
  },
  {
   "cell_type": "code",
   "execution_count": null,
   "metadata": {},
   "outputs": [],
   "source": [
    "\n"
   ]
  }
 ],
 "metadata": {
  "kernelspec": {
   "display_name": "lm_miner",
   "language": "python",
   "name": "python3"
  },
  "language_info": {
   "codemirror_mode": {
    "name": "ipython",
    "version": 3
   },
   "file_extension": ".py",
   "mimetype": "text/x-python",
   "name": "python",
   "nbconvert_exporter": "python",
   "pygments_lexer": "ipython3",
   "version": "3.10.6"
  },
  "orig_nbformat": 4
 },
 "nbformat": 4,
 "nbformat_minor": 2
}
