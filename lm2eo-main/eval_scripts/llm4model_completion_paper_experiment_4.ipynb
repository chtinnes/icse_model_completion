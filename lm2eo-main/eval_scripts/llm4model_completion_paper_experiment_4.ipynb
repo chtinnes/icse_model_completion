{
 "cells": [
  {
   "cell_type": "markdown",
   "metadata": {},
   "source": [
    "# Statistical Evaluation of the LLM 4 Model Completion Paper"
   ]
  },
  {
   "cell_type": "markdown",
   "metadata": {},
   "source": [
    "## Experiment 4\n",
    "The last experiments aims at answering the research question \"What initial insights can be gained when comparing domain-specific fine-tuning and few-shot learning?\""
   ]
  },
  {
   "cell_type": "code",
   "execution_count": null,
   "metadata": {
    "ExecuteTime": {
     "end_time": "2023-09-28T07:26:15.427854Z",
     "start_time": "2023-09-28T07:26:15.331298Z"
    }
   },
   "outputs": [],
   "source": [
    "path_to_finetuning_curie = \"../final_output_experiment_4/results_completion_curie_6D20E51p0_curie.csv\"\n",
    "path_to_finetuning_ada =\"../final_output_experiment_4/completion_eval_ada.csv\"\n",
    "path_to_few_shot_ada = \"../final_output_experiment_4/final_experiment1_fewshot_ada_syntetic.csv\"\n",
    "path_to_few_shot_curie = \"../final_output_experiment_4/final_experiment1_fewshot_curie_syntetic.csv\""
   ]
  },
  {
   "cell_type": "markdown",
   "metadata": {},
   "source": [
    "First we import all libraries. Make sure to have them installed (e.g., via pip)."
   ]
  },
  {
   "cell_type": "code",
   "execution_count": null,
   "metadata": {
    "ExecuteTime": {
     "end_time": "2023-09-28T07:26:17.199574Z",
     "start_time": "2023-09-28T07:26:15.335516Z"
    }
   },
   "outputs": [],
   "source": [
    "import pandas as pd\n",
    "from scipy.stats import mannwhitneyu"
   ]
  },
  {
   "cell_type": "markdown",
   "metadata": {},
   "source": [
    "Reading the data from CSV files:"
   ]
  },
  {
   "cell_type": "code",
   "execution_count": null,
   "metadata": {
    "ExecuteTime": {
     "end_time": "2023-09-28T07:26:17.313126Z",
     "start_time": "2023-09-28T07:26:17.200888Z"
    }
   },
   "outputs": [],
   "source": [
    "data_finetuning_ada = pd.read_csv(path_to_finetuning_ada, sep=';')\n",
    "data_finetuning_curie = pd.read_csv(path_to_finetuning_curie, sep=';')\n",
    "data_few_shot_ada = pd.read_csv(path_to_few_shot_ada)\n",
    "data_few_shot_curie = pd.read_csv(path_to_few_shot_curie)"
   ]
  },
  {
   "cell_type": "markdown",
   "metadata": {},
   "source": [
    "We want to understand how correct the completions are: \n",
    "Types to test are:\n",
    "- at least one correct edge but some can be missing\n",
    "- completely correct completion\n",
    "- correct completion but additional edges (ground truth is a subgraph of the generated completion)\n",
    "- incomplete but correct completion (generated completetion is a subgraph of the ground truth)"
   ]
  },
  {
   "cell_type": "code",
   "execution_count": null,
   "metadata": {
    "ExecuteTime": {
     "end_time": "2023-09-28T07:26:17.320137Z",
     "start_time": "2023-09-28T07:26:17.314198Z"
    }
   },
   "outputs": [],
   "source": [
    "\n",
    "types_to_test = [\n",
    "    \"type_isomorphic_completion\",\n",
    "    \"type_subgraph_isomorphic_generated_in_gt\",\n",
    "    \"type_subgraph_isomorphic_gt_in_generated\",\n",
    "    \"at_least_one_correct_edge\"\n",
    "]"
   ]
  },
  {
   "cell_type": "markdown",
   "metadata": {},
   "source": [
    "We define the significance level:"
   ]
  },
  {
   "cell_type": "code",
   "execution_count": null,
   "metadata": {},
   "outputs": [],
   "source": [
    "ALPHA = 0.05"
   ]
  },
  {
   "cell_type": "markdown",
   "metadata": {},
   "source": [
    "Datasets to compare  "
   ]
  },
  {
   "cell_type": "code",
   "execution_count": null,
   "metadata": {
    "ExecuteTime": {
     "end_time": "2023-09-28T07:26:17.326761Z",
     "start_time": "2023-09-28T07:26:17.320365Z"
    }
   },
   "outputs": [],
   "source": [
    "datasets = [\n",
    "        ( data_few_shot_ada,data_finetuning_ada, \"Ada\"),\n",
    "        ( data_few_shot_curie,data_finetuning_curie, \"Curie\")\n",
    "    ]\n"
   ]
  },
  {
   "cell_type": "markdown",
   "metadata": {},
   "source": [
    "Performing Mann-Whitney U tests: \n",
    "- first we the conditions for each type in the fine-tuning dataset\n",
    "- than we collect this data by category"
   ]
  },
  {
   "cell_type": "code",
   "execution_count": null,
   "metadata": {
    "ExecuteTime": {
     "end_time": "2023-09-28T07:26:17.360481Z",
     "start_time": "2023-09-28T07:26:17.330172Z"
    }
   },
   "outputs": [],
   "source": [
    "for data1, data2, name in datasets:\n",
    "\n",
    "    # Check the conditions \n",
    "    isomorphic_data2 = data2['completion_best_rank_result'] == 'ISOMORPHIC'\n",
    "    generated_in_gt_data2 = (data2['completion_best_rank_result'] == 'TOO_SMALL') | (\n",
    "                data2['completion_best_rank_result'] == 'ISOMORPHIC')\n",
    "    gt_in_generated_data2 = (data2['completion_best_rank_result'] == 'TOO_LARGE') | (\n",
    "                data2['completion_best_rank_result'] == 'ISOMORPHIC')\n",
    "    correct_edge_data2 = data2['completion_best_rank_correct_edges'] >= 1\n",
    "\n",
    "    # Collect data\n",
    "    isomorphic_data1 = data1['type_isomorphic_completion']\n",
    "    generated_in_gt_data1 = data1['type_subgraph_isomorphic_generated_in_gt']\n",
    "    gt_in_generated_data1 = data1['type_subgraph_isomorphic_gt_in_generated']\n",
    "    correct_edge_data1 = data1['at_least_one_correct_edge']\n",
    "\n",
    "    #what to run:\n",
    "    what_to_compare= [\n",
    "        (isomorphic_data1, isomorphic_data2, 'Isomorphic'),\n",
    "        (generated_in_gt_data1, generated_in_gt_data2, 'Generated_in_gt'),\n",
    "        (gt_in_generated_data1, gt_in_generated_data2, 'Gt_in_generated'),\n",
    "        (correct_edge_data1, correct_edge_data2, 'At Least One Correct Edge')\n",
    "    ]\n",
    "\n",
    "    for data1_subset, data2_subset, test_name in what_to_compare:\n",
    "       \n",
    "        # Two-sided\n",
    "        u_statistic, p_value_two_sided = mannwhitneyu(data1_subset, data2_subset, alternative='two-sided')\n",
    "        conclusion_two_sided = \"likely not from the same distribution\" if p_value_two_sided < ALPHA else \"not enough evidence to conclude they are from different distributions\"\n",
    "\n",
    "        # One-sided (greater)\n",
    "        u_statistic, p_value_greater = mannwhitneyu(data1_subset, data2_subset, alternative='greater')\n",
    "        conclusion_greater = \"likely greater\" if p_value_greater < ALPHA else \"not enough evidence to conclude greater\"\n",
    "\n",
    "        # One-sided (less)\n",
    "        u_statistic, p_value_less = mannwhitneyu(data1_subset, data2_subset, alternative='less')\n",
    "        conclusion_less = \"likely less\" if p_value_less < ALPHA else \"not enough evidence to conclude less\"\n",
    "\n",
    "        print(\n",
    "            f\"{test_name}, {name}:\\n Two-sided: U={u_statistic}, p-value={p_value_two_sided}. Conclusion: {conclusion_two_sided}\\n Greater: U={u_statistic}, p-value={p_value_greater}. Conclusion: {conclusion_greater}\\n Less: U={u_statistic}, p-value={p_value_less}. Conclusion: {conclusion_less}\")\n",
    "\n"
   ]
  },
  {
   "cell_type": "markdown",
   "metadata": {},
   "source": []
  }
 ],
 "metadata": {
  "kernelspec": {
   "display_name": "lm_miner",
   "language": "python",
   "name": "python3"
  },
  "language_info": {
   "codemirror_mode": {
    "name": "ipython",
    "version": 3
   },
   "file_extension": ".py",
   "mimetype": "text/x-python",
   "name": "python",
   "nbconvert_exporter": "python",
   "pygments_lexer": "ipython3",
   "version": "3.10.6"
  },
  "orig_nbformat": 4
 },
 "nbformat": 4,
 "nbformat_minor": 2
}
