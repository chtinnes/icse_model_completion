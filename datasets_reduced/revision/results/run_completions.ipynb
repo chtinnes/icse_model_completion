{
 "cells": [
  {
   "cell_type": "code",
   "execution_count": null,
   "metadata": {},
   "outputs": [],
   "source": [
    "# load the csv with the data\n",
    "import pandas as pd\n",
    "import re\n",
    "data = pd.read_csv('results_iso_check.csv')"
   ]
  },
  {
   "cell_type": "code",
   "execution_count": null,
   "metadata": {},
   "outputs": [],
   "source": [
    "# Some config\n",
    "MULTI_EDGE = False\n",
    "model = \"gpt-4\"\n"
   ]
  },
  {
   "cell_type": "code",
   "execution_count": null,
   "metadata": {},
   "outputs": [],
   "source": [
    "# select data, i.e. fixed_prompt column. select only rows where completion_type = ['Add_node']\n",
    "count = 0\n",
    "for index, row in data.iterrows():\n",
    "    if row['completion_type'] == \"['Add_node']\" and re.match(r\".*'changeType': 'Add', 'type': 'object'.*\",row['completion']):\n",
    "        count += 1\n",
    "\n",
    "print(f\"There are {count} rows with completion_type = ['Add_node']\")"
   ]
  },
  {
   "cell_type": "markdown",
   "metadata": {},
   "source": [
    "Run the completion with gpt-4"
   ]
  },
  {
   "cell_type": "code",
   "execution_count": null,
   "metadata": {},
   "outputs": [],
   "source": [
    "# define the prompts\n",
    "\n",
    "from GPT_runner import sample_edge_gpt_chat, CHAT_MODEL_INSTRUCTION\n",
    "\n",
    "# select data, i.e. fixed_prompt column. select only rows where completion_type = ['Add_node']\n",
    "count = 0\n",
    "for index, row in data.iterrows():\n",
    "    if row['completion_type'] == \"['Add_node']\" and re.match(r\".*'changeType': 'Add', 'type': 'object'.*\",row['completion']):\n",
    "        total_tokens, completion_tokens, completion_string = sample_edge_gpt_chat(model, row['prompt'], CHAT_MODEL_INSTRUCTION, MULTI_EDGE)\n",
    "        count += 1\n",
    "        # set in data file\n",
    "        data.at[index, 'completion_generated'] = completion_string\n",
    "        data.at[index, 'completion_tokens'] = completion_tokens\n",
    "        data.at[index, 'total_tokens'] = total_tokens\n",
    "\n",
    "# save the data\n",
    "data.to_csv('results_iso_check.csv', index=False)\n",
    "\n"
   ]
  }
 ],
 "metadata": {
  "kernelspec": {
   "display_name": "lm_miner",
   "language": "python",
   "name": "python3"
  },
  "language_info": {
   "codemirror_mode": {
    "name": "ipython",
    "version": 3
   },
   "file_extension": ".py",
   "mimetype": "text/x-python",
   "name": "python",
   "nbconvert_exporter": "python",
   "pygments_lexer": "ipython3",
   "version": "3.10.6"
  }
 },
 "nbformat": 4,
 "nbformat_minor": 2
}
