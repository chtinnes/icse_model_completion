{
 "cells": [
  {
   "cell_type": "code",
   "execution_count": 3,
   "metadata": {},
   "outputs": [],
   "source": [
    "import pandas as pd\n",
    "import re"
   ]
  },
  {
   "cell_type": "code",
   "execution_count": 4,
   "metadata": {},
   "outputs": [],
   "source": [
    "# Example CSV file:\n",
    "# ,id,source,prompt,completion,few_shot_token_count,test_token_count,total_token_count,few_shot_count,test_edge_count,test_completion_edge_count,completion_type,total_tokens,completion_tokens,completion_string,correct_format,type_isomorphic_completion,change_type_isomorphic_completion,structural_isomorphic_completion\n",
    "# 0,0,experiment_samples/technology.cbi!!org.eclipse.b3.backend_model_B3Backend.ecore/test_samples.jsonl,\"t # 69\n",
    "# e 1 0 \"\"{'changeType': 'Change', 'type': 'attribute'}\"\" \"\"{'changeType': 'Preserve', 'type': 'object', 'className': 'EAttribute', 'attributes': {'id': '_5T16md6tEei97MD7GK1RmA', 'name':'id','ordered':'true','unique':'true','lowerBound':'1','upperBound':'1','many':'false','required':'true','eType':'String','eGenericType':'org.eclipse.emf.ecore.impl.EGenericTypeImpl@6a0f4413 (expression: String)','changeable':'true','volatile':'false','transient':'false','unsettable':'false','derived':'false','eContainingClass':'VariableDeclaration','iD':'false','eAttributeType':'String'}}\"\" \"\"{'changeType': 'Change', 'type': 'attributeValue', 'className': 'EAttribute', 'attributeName': 'ordered', 'valueBefore': 'true', 'valueAfter': 'false'}\"\"\n",
    "# e 1 2 \"\"{'changeType': 'Change', 'type': 'attribute'}\"\" _ \"\"{'changeType': 'Change', 'type': 'attributeValue', 'className': 'EAttribute', 'attributeName': 'unique', 'valueBefore': 'true', 'valueAfter': 'false'}\"\"\n",
    "\n",
    "# $$\n",
    "# ---\n",
    "# t # 63\n",
    "# e 2 1 \"\"{'changeType': 'Change', 'type': 'attribute'}\"\" \"\"{'changeType': 'Preserve', 'type': 'object', 'className': 'EAttribute', 'attributes': {'id': '_5T16Ft6tEei97MD7GK1RmA', 'name':'name','ordered':'true','unique':'true','lowerBound':'1','upperBound':'1','many':'false','required':'true','eType':'String','eGenericType':'org.eclipse.emf.ecore.impl.EGenericTypeImpl@7a674f5b (expression: String)','changeable':'true','volatile':'false','transient':'false','unsettable':'false','derived':'false','eContainingClass':'Unit','iD':'false','eAttributeType':'String'}}\"\" \"\"{'changeType': 'Change', 'type': 'attributeValue', 'className': 'EAttribute', 'attributeName': 'ordered', 'valueBefore': 'true', 'valueAfter': 'false'}\"\"\n",
    "# e 2 0 \"\"{'changeType': 'Change', 'type': 'attribute'}\"\" _ \"\"{'changeType': 'Change', 'type': 'attributeValue', 'className': 'EAttribute', 'attributeName': 'unique', 'valueBefore': 'true', 'valueAfter': 'false'}\"\"\n",
    "\n",
    "# $$\n",
    "# ---\n",
    "# t # 47\n",
    "# e 0 2 \"\"{'changeType': 'Add', 'type': 'reference', 'referenceTypeName': 'eOpposite'}\"\" \"\"{'changeType': 'Preserve', 'type': 'object', 'className': 'EReference', 'attributes': {'id': '_XMof9960Eei97MD7GK1RmA', 'name':'decorator','ordered':'true','unique':'true','lowerBound':'0','upperBound':'1','many':'false','required':'false','eType':'Decorator','eGenericType':'org.eclipse.emf.ecore.impl.EGenericTypeImpl@70824c2b (expression: Decorator)','changeable':'true','volatile':'false','transient':'true','unsettable':'false','derived':'false','eContainingClass':'DynamicLabel','containment':'false','container':'false','resolveProxies':'false','eOpposite':'labelsToUpdate','eReferenceType':'Decorator'}}\"\" \"\"{'changeType': 'Preserve', 'type': 'object', 'className': 'EReference', 'attributes': {'id': '_XMyS0960Eei97MD7GK1RmA', 'name':'labelsToUpdate','ordered':'true','unique':'true','lowerBound':'0','upperBound':'-1','many':'true','required':'false','eType':'DynamicLabel','eGenericType':'org.eclipse.emf.ecore.impl.EGenericTypeImpl@98069e5 (expression: DynamicLabel)','changeable':'true','volatile':'false','transient':'true','unsettable':'false','derived':'false','eContainingClass':'Decorator','containment':'false','container':'false','resolveProxies':'false','eOpposite':'decorator','eReferenceType':'DynamicLabel'}}\"\"\n",
    "# e 0 1 \"\"{'changeType': 'Remove', 'type': 'reference', 'referenceTypeName': 'eOpposite'}\"\" _ \"\"{'changeType': 'Preserve', 'type': 'object', 'className': 'EReference', 'attributes': {'id': '_XMyS0960Eei97MD7GK1RmA', 'name':'labelsToUpdate','ordered':'true','unique':'true','lowerBound':'0','upperBound':'-1','many':'true','required':'false','eType':'DynamicLabel','eGenericType':'org.eclipse.emf.ecore.impl.EGenericTypeImpl@4667369e (expression: DynamicLabel)','changeable':'true','volatile':'false','transient':'false','unsettable':'false','derived':'false','eContainingClass':'Decorator','containment':'false','container':'false','resolveProxies':'true','eOpposite':'decorator','eReferenceType':'DynamicLabel'}}\"\"\n",
    "\n",
    "# $$\n",
    "# ---\n",
    "# t # 78\n",
    "# e 0 1 \"\"{'changeType': 'Change', 'type': 'attribute'}\"\" \"\"{'changeType': 'Preserve', 'type': 'object', 'className': 'EAttribute', 'attributes': {'id': '_5T16S96tEei97MD7GK1RmA', 'name':'name','ordered':'true','unique':'true','lowerBound':'1','upperBound':'1','many':'false','required':'true','eType':'String','eGenericType':'org.eclipse.emf.ecore.impl.EGenericTypeImpl@5101b9e8 (expression: String)','changeable':'true','volatile':'false','transient':'false','unsettable':'false','derived':'false','eContainingClass':'OclFeature','iD':'false','eAttributeType':'String'}}\"\" \"\"{'changeType': 'Change', 'type': 'attributeValue', 'className': 'EAttribute', 'attributeName': 'unique', 'valueBefore': 'true', 'valueAfter': 'false'}\"\"\n",
    "# e 0 2 \"\"{'changeType': 'Change', 'type': 'attribute'}\"\" _ \"\"{'changeType': 'Change', 'type': 'attributeValue', 'className': 'EAttribute', 'attributeName': 'ordered', 'valueBefore': 'true', 'valueAfter': 'false'}\"\"\n",
    "\n",
    "# $$\n",
    "# ---\n",
    "# t # 74\n",
    "# e 0 2 \"\"{'changeType': 'Change', 'type': 'attribute'}\"\" \"\"{'changeType': 'Preserve', 'type': 'object', 'className': 'EAttribute', 'attributes': {'id': '_5T16uN6tEei97MD7GK1RmA', 'name':'name','ordered':'true','unique':'true','lowerBound':'1','upperBound':'1','many':'false','required':'true','eType':'String','eGenericType':'org.eclipse.emf.ecore.impl.EGenericTypeImpl@3a30bf57 (expression: String)','changeable':'true','volatile':'false','transient':'false','unsettable':'false','derived':'false','eContainingClass':'OclType','iD':'false','eAttributeType':'String'}}\"\" \"\"{'changeType': 'Change', 'type': 'attributeValue', 'className': 'EAttribute', 'attributeName': 'ordered', 'valueBefore': 'true', 'valueAfter': 'false'}\"\"\n",
    "# e 0 1 \"\"{'changeType': 'Change', 'type': 'attribute'}\"\" _ \"\"{'changeType': 'Change', 'type': 'attributeValue', 'className': 'EAttribute', 'attributeName': 'unique', 'valueBefore': 'true', 'valueAfter': 'false'}\"\"\n",
    "\n",
    "# $$\n",
    "# ---\n",
    "# t # 22\n",
    "# e 0 2 \"\"{'changeType': 'Add', 'type': 'reference', 'referenceTypeName': 'eOpposite'}\"\" \"\"{'changeType': 'Preserve', 'type': 'object', 'className': 'EReference', 'attributes': {'id': '_XMof9960Eei97MD7GK1RmA', 'name':'decorator','ordered':'true','unique':'true','lowerBound':'0','upperBound':'1','many':'false','required':'false','eType':'Decorator','eGenericType':'org.eclipse.emf.ecore.impl.EGenericTypeImpl@4dd09c5c (expression: Decorator)','changeable':'true','volatile':'false','transient':'true','unsettable':'false','derived':'false','eContainingClass':'DynamicLabel','containment':'false','container':'false','resolveProxies':'false','eOpposite':'labelsToUpdate','eReferenceType':'Decorator'}}\"\" \"\"{'changeType': 'Preserve', 'type': 'object', 'className': 'EReference', 'attributes': {'id': '_XMyS0960Eei97MD7GK1RmA', 'name':'labelsToUpdate','ordered':'true','unique':'true','lowerBound':'0','upperBound':'-1','many':'true','required':'false','eType':'DynamicLabel','eGenericType':'org.eclipse.emf.ecore.impl.EGenericTypeImpl@35139877 (expression: DynamicLabel)','changeable':'true','volatile':'false','transient':'true','unsettable':'false','derived':'false','eContainingClass':'Decorator','containment':'false','container':'false','resolveProxies':'false','eOpposite':'decorator','eReferenceType':'DynamicLabel'}}\"\"\n",
    "# e 0 1 \"\"{'changeType': 'Remove', 'type': 'reference', 'referenceTypeName': 'eOpposite'}\"\" _ \"\"{'changeType': 'Preserve', 'type': 'object', 'className': 'EReference', 'attributes': {'id': '_XMyS0960Eei97MD7GK1RmA', 'name':'labelsToUpdate','ordered':'true','unique':'true','lowerBound':'0','upperBound':'-1','many':'true','required':'false','eType':'DynamicLabel','eGenericType':'org.eclipse.emf.ecore.impl.EGenericTypeImpl@6dc32004 (expression: DynamicLabel)','changeable':'true','volatile':'false','transient':'true','unsettable':'false','derived':'false','eContainingClass':'Decorator','containment':'false','container':'false','resolveProxies':'false','eOpposite':'decorator','eReferenceType':'DynamicLabel'}}\"\"\n",
    "\n",
    "# $$\n",
    "# ---\n",
    "# t # 32\n",
    "# e 2 0 \"\"{'changeType': 'Add', 'type': 'reference', 'referenceTypeName': 'eOpposite'}\"\" \"\"{'changeType': 'Preserve', 'type': 'object', 'className': 'EReference', 'attributes': {'id': '_XMogPN60Eei97MD7GK1RmA', 'name':'decorators','ordered':'true','unique':'true','lowerBound':'0','upperBound':'-1','many':'true','required':'false','eType':'Decorator','eGenericType':'org.eclipse.emf.ecore.impl.EGenericTypeImpl@15e6146f (expression: Decorator)','changeable':'true','volatile':'false','transient':'false','unsettable':'false','derived':'false','eContainingClass':'Graph','containment':'true','container':'false','resolveProxies':'false','eOpposite':'graph','eReferenceType':'Decorator'}}\"\" \"\"{'changeType': 'Preserve', 'type': 'object', 'className': 'EReference', 'attributes': {'id': '_XMyS1d60Eei97MD7GK1RmA', 'name':'graph','ordered':'true','unique':'true','lowerBound':'0','upperBound':'1','many':'false','required':'false','eType':'Graph','eGenericType':'org.eclipse.emf.ecore.impl.EGenericTypeImpl@26d6f4e0 (expression: Graph)','changeable':'true','volatile':'false','transient':'true','unsettable':'false','derived':'false','eContainingClass':'Decorator','containment':'false','container':'true','resolveProxies':'true','eOpposite':'decorators','eReferenceType':'Graph'}}\"\"\n",
    "# e 2 1 \"\"{'changeType': 'Remove', 'type': 'reference', 'referenceTypeName': 'eOpposite'}\"\" _ \"\"{'changeType': 'Preserve', 'type': 'object', 'className': 'EReference', 'attributes': {'id': '_XMyS1d60Eei97MD7GK1RmA', 'name':'graph','ordered':'true','unique':'true','lowerBound':'0','upperBound':'1','many':'false','required':'false','eType':'Graph','eGenericType':'org.eclipse.emf.ecore.impl.EGenericTypeImpl@35c48d76 (expression: Graph)','changeable':'true','volatile':'false','transient':'true','unsettable':'false','derived':'false','eContainingClass':'Decorator','containment':'false','container':'true','resolveProxies':'true','eOpposite':'decorators','eReferenceType':'Graph'}}\"\"\n",
    "\n",
    "# $$\n",
    "# ---\n",
    "# t # 195\n",
    "# e 1 2 \"\"{'changeType': 'Change', 'type': 'attribute'}\"\" \"\"{'changeType': 'Preserve', 'type': 'object', 'className': 'EAttribute', 'attributes': {'id': '_lTgRnt6wEei97MD7GK1RmA', 'name':'parameterTypes','ordered':'true','unique':'true','lowerBound':'0','upperBound':'1','many':'false','required':'false','eType':'TypeArray','eGenericType':'org.eclipse.emf.ecore.impl.EGenericTypeImpl@219cff5d (expression: TypeArray)','changeable':'true','volatile':'false','transient':'false','unsettable':'false','derived':'false','eContainingClass':'BFunction','iD':'false','eAttributeType':'TypeArray'}}\"\" \"\"{'changeType': 'Change', 'type': 'attributeValue', 'className': 'EAttribute', 'attributeName': 'transient', 'valueBefore': 'false', 'valueAfter': 'true'}\"\"\n",
    "# e\",\" 1 0 \"\"{'changeType': 'Change', 'type': 'attribute'}\"\" _ \"\"{'changeType': 'Change', 'type': 'attributeValue', 'className': 'EAttribute', 'attributeName': 'derived', 'valueBefore': 'false', 'valueAfter': 'true'}\"\"\n",
    "\n",
    "# $$\",3379,325,3704,7,1,1,['Change_attribute'],3351,63,\"1 0 \"\"{'changeType': 'Change', 'type': 'attribute'}\"\" _ \"\"{'changeType': 'Change', 'type': 'attributeValue', 'className': 'EAttribute', 'attributeName': 'volatile', 'valueBefore': 'false', 'valueAfter': 'true'}\"\"\",True,False,True,True\n",
    "\n",
    "\n",
    "# Given a csv file with the above format, this script will extract the completion and the completion_string from the csv\n",
    "dataset = pd.read_csv('results_iso_check.csv')"
   ]
  },
  {
   "cell_type": "markdown",
   "metadata": {},
   "source": [
    "It's important to mention here: WE REMOVE TO MUCH, i.e., we are unfair against ourselves."
   ]
  },
  {
   "cell_type": "code",
   "execution_count": 15,
   "metadata": {},
   "outputs": [],
   "source": [
    "# we make the following fixes in the prompts (column prompt). We store the fixed prompts in the column fixed_prompt:\n",
    "# Everytime (i.e., for all) it appears in the prompt:\n",
    "# 1.) we remove \",'eParameters':\\[.*\\]\" from the prompt\n",
    "# 2.) we remove \",'eStructuralFeatures':\\[.*\\]\" from the prompt \n",
    "# 3.) we remove \",'details':\\[.*\\]\" from the prompt \n",
    "# 4.) we remove \",'eLiterals':\\[.*\\]\" from the prompt\n",
    "# 5.) we remove \",'eOperations':\\[.*\\]\" from the prompt\n",
    "def fix_prompt(prompt: str) -> str:\n",
    "    prompt = re.sub(r\",'eParameters':\\[.*\\]\", \"\", prompt)\n",
    "    prompt = re.sub(r\",'eStructuralFeatures':\\[.*\\]\", \"\", prompt)\n",
    "    prompt = re.sub(r\",'details':\\[.*\\]\", \"\", prompt)\n",
    "    prompt = re.sub(r\",'eLiterals':\\[.*\\]\", \"\", prompt)\n",
    "    prompt = re.sub(r\",'eOperations':\\[.*\\]\", \"\", prompt)\n",
    "    return prompt\n",
    "\n",
    "dataset['fixed_prompt'] = dataset['prompt'].apply(fix_prompt)"
   ]
  },
  {
   "cell_type": "code",
   "execution_count": 16,
   "metadata": {},
   "outputs": [],
   "source": [
    "# Save to a new csv file\n",
    "dataset.to_csv('results_iso_check_fixed.csv', index=False)"
   ]
  }
 ],
 "metadata": {
  "kernelspec": {
   "display_name": "lm_miner",
   "language": "python",
   "name": "python3"
  },
  "language_info": {
   "codemirror_mode": {
    "name": "ipython",
    "version": 3
   },
   "file_extension": ".py",
   "mimetype": "text/x-python",
   "name": "python",
   "nbconvert_exporter": "python",
   "pygments_lexer": "ipython3",
   "version": "3.10.6"
  }
 },
 "nbformat": 4,
 "nbformat_minor": 2
}
